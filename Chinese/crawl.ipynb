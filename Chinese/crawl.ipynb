{
 "cells": [
  {
   "cell_type": "code",
   "execution_count": 9,
   "outputs": [],
   "source": [
    "import datetime\n",
    "import json\n",
    "import os\n",
    "\n",
    "import requests\n",
    "from bs4 import BeautifulSoup\n",
    "\n",
    "'''\n",
    "getConn: async with aiohttp.ClientSession(headers=self.headers)as session: 异步连接， 使用etree.HTML解析\n",
    "GetZhihu: 解析soup，item.xpath 收集title, content\n",
    "'''\n",
    "\n",
    "\n",
    "class CrawData:\n",
    "    def __init__(self):\n",
    "        self.cookie = {\n",
    "            \"Zhihu\": \"_zap=76b4e1b6-cb41-474f-834c-02d66f618f59; d_c0=AODXtXv8fRWPTu9xBoST968twuJBcu0m9ig=|1662012047; YD00517437729195%3AWM_TID=wFNtumLPnL5FQQQBUQOBHP5%2FiBp5zUuH; _9755xjdesxxd_=32; gdxidpyhxdE=6%2Bda76P0N0buBJRKjOcYfpukmBT3a2BxiywALo2HZlrAdNwoGwkW7ZL8ZXda7IBMrfwLQvaX6ybQzEnsQ20v6lEafDT%2BHdnQEEXHNi3QfSgJJiHT%5C57%2FJ8Pga6ab%2BkMjYRiwDLtuNdOc%2FD2ZU7HI567zgXMGuvckJ21yn2M1xSIm7%2BvZ%3A1662106874351; YD00517437729195%3AWM_NI=BJurDgs5HdhkuGhxA%2BFP2hKQfQStlni5Xjp1A7ma0aao526nKQ7ZLhAbmlM7pnJDGPaua2j7cIqRrD5QX7UjvRWCzpG43Erbn2n66kEz6Jz%2F0mmb6xqoxmRxCJMVO9HFM00%3D; YD00517437729195%3AWM_NIKE=9ca17ae2e6ffcda170e2e6ee96b63a9baea4d0ed5c87bc8bb2c15f879f9e87c44da7eafda9ae4eb6ec86a9db2af0fea7c3b92a8296bb93c76db1eb8885eb61b799a899c4218690fe89ca5ba68f9d95ef66abeb988bf33b83e9a382b36ba3b1fbd3b566898ff9bbcf6483bea38dd03db4b286a5c65ca3abafd3e93da197bfb3f150f78f98d8d862b68e99a4f97c85ecfda6f16aaeeea2d7b56187a6faabf925f4b3a383b574b3b1b88ed174819683b7ce338c9a83d1b337e2a3; q_c1=9fde163d184f43c89b2a39878cb1191d|1662109910000|1662109910000; z_c0=2|1:0|10:1666873564|4:z_c0|80:MS4xVk4wbUJRQUFBQUFtQUFBQVlBSlZUWmhjUDJTMkg1cC1iY1drVzdvZ2xfN0pwdXpDLVV5TDJRPT0=|ba6373c3d19d92abc6a7d76e92e8c5786f16919d343b4f1447342b6ab6bd4aa2; _xsrf=2258b675-cd3b-4382-8635-3ac643942848; Hm_lvt_98beee57fd2ef70ccdd5ca52b9740c49=1666934408,1667016917,1667133485,1667198106; tst=h; NOT_UNREGISTER_WAITING=1; SESSIONID=7gjoDb6eWN6CFH57DlXdOd6ooIfAbLPYRIoUvO1isgP; JOID=V1wVAU7JIVGF7_XcdM7Qgx5qDqBk_0I57auW7hOebmPErr3oRzBQC-Hu8Npx-DMVFTGT-4XBQB7JZMDYRGbua2Y=; osd=W18cA0PFIliH4vnffczdjx1jDK1o_Es74KeV5xGTYmDNrLDkRDlSBu3t-dh89DAcFzyf-IzDTRLKbcLVSGXnaWs=; Hm_lpvt_98beee57fd2ef70ccdd5ca52b9740c49=1667201283; KLBRSID=3d7feb8a094c905a519e532f6843365f|1667201283|1667198101\",\n",
    "            \"Weibo\": \"SINAGLOBAL=9561045312014.672.1664548752421; UOR=,,www.google.com; SUBP=0033WrSXqPxfM725Ws9jqgMF55529P9D9WFKGQYbnVAGgRIAI_cEZzbr5JpX5KMhUgL.Fo-Reo2XSo.X1hn2dJLoI7LCUgpE-NWDd.Bt; ULV=1668326704649:4:2:1:9211475239532.592.1668326704640:1668219191555; webim_unReadCount=%7B%22time%22%3A1668331056079%2C%22dm_pub_total%22%3A60%2C%22chat_group_client%22%3A157%2C%22chat_group_notice%22%3A0%2C%22allcountNum%22%3A275%2C%22msgbox%22%3A0%7D; PC_TOKEN=04d8bf9ca0; ALF=1699938496; SSOLoginState=1668402498; SCF=AgRxuG63DyJVy6c3vWUVplWvLg66D1s5oNRbGM3_tqCpr2R_MgRKkEi3CxJEVWof3aaSXPapLRkROvI3R3QJ2RI.; SUB=_2A25Odb0VDeRhGeNG6VMV9ifIwzSIHXVtAqndrDV8PUNbmtAKLVHDkW9NS2Aj9iZEMb0c9uEL2WPLi1w9Wq3-5Mx5; XSRF-TOKEN=3sTlo_roBUV1n2ql8KTPc0-M; WBPSESS=3D-OIkJPmA_YQyxuIGJtpblMKWzvV744TalsPfUZX7wFEf1_ai2q65MimN9tPI975XteLqDKkBOMwBFn-SQUKZ-PsQbiH46gyny2GBwFfR_FdUY3g-fmyj9SE1ck-67Q1J7Pqk5DOOCilCrexylCiA==\"\n",
    "        }\n",
    "        self.urls = {\n",
    "            'Zhihu': r'https://www.zhihu.com/hot',\n",
    "            'Weibo': r'https://s.weibo.com/top/summary',\n",
    "        }\n",
    "        self.headers = {\n",
    "            'User-Agent': 'Mozilla/5.0 (Windows NT 10.0; Win64; x64) AppleWebKit/537.36 (KHTML, like Gecko) Chrome/73.0.3683.86 Safari/537.36',\n",
    "        }\n",
    "        self.data = {}\n",
    "\n",
    "    def getDate(self):\n",
    "        return str(datetime.date.today())\n",
    "\n",
    "    def getConn(self, name):\n",
    "        url = self.urls[name]\n",
    "        # connect asynchronize\n",
    "        text = requests.get(url, headers=self.headers).text\n",
    "        return BeautifulSoup(text)\n",
    "\n",
    "    def getZhihu(self):\n",
    "        self.headers['cookie'] = self.cookie['Zhihu']\n",
    "        soup = self.getConn(\"Zhihu\")\n",
    "        hotList = soup.find(attrs={\"class\": \"HotList-list\"})\n",
    "        sections = hotList.findAll(\"section\", limit=50)\n",
    "        titles = []\n",
    "        date2title = {}\n",
    "        for section in sections:\n",
    "            title = section.find(attrs={\"class\": \"HotItem-title\"}).text\n",
    "            titles.append(title)\n",
    "        date2title[self.getDate()] = titles\n",
    "        self.data[\"Zhihu\"] = date2title\n",
    "\n",
    "    def getWeibo(self):\n",
    "        self.headers[\"cookie\"] = self.cookie[\"Weibo\"]\n",
    "        soup = self.getConn(\"Weibo\")\n",
    "        rows = soup.find(class_=\"data\").findAll(class_=\"td-02\", limit=50)\n",
    "        titles = []\n",
    "        date2title = {}\n",
    "        for row in rows:\n",
    "            title = row.find(\"a\").text\n",
    "            titles.append(title)\n",
    "        date2title[self.getDate()] = titles\n",
    "        self.data[\"Weibo\"] = date2title\n",
    "\n",
    "craw_data = CrawData()"
   ],
   "metadata": {
    "collapsed": false
   }
  },
  {
   "cell_type": "code",
   "execution_count": 14,
   "outputs": [
    {
     "data": {
      "text/plain": "{'2022-11-14': ['中国高血压诊断标准下调，患者数量翻倍或近 5 亿，这数据说明了什么？我国高血压问题这么严重吗？',\n  '如何看待 C 罗近期接受采访时「炮轰」曼联，表示自己感到被背叛？',\n  '马斯克突然开除 80% 推特合同工，共计 4400 人，这将带来哪些影响？',\n  '今年双 11，各大平台、主播战报不再强调 GMV，而是强调年轻用户数和时长，透露了哪些信号？',\n  '儿子说「我只想做个普通人」，该怎么教育孩子？',\n  '为什么有的计算机本科生就能发表顶会，但是许多博士生还是一篇都没有？',\n  '11 月 13 日北京新增 237 例本土确诊、 170 例本土无症状感染者，目前疫情情况如何？',\n  '防疫发布会被质疑打广告，乌鲁木齐市商务局回应「有企业断章取义」，该企业可能面临哪些处罚？',\n  '退休教师三亚全款买 22 套房 10 年未拿到，仲裁交房开发商「不认可」，遇此情况该如何维权？',\n  '11 月 13 日重庆新增本土感染病例「150+2147」例 ，目前当地疫情情况如何？',\n  '潮州特斯拉失控致 2 死 3 伤，特斯拉回应「踩不下刹车」，对于此事件你有哪些看法？',\n  '如何看待 Nature communication 和 Science advances 降为二区？',\n  '成都一儿童医院现付费「视频座椅」引关注，9 元可看一小时，「视频座椅」的出现，对就医体验带来哪些改变？',\n  '医护人员住宾馆遭暴力驱赶，大同警方回应称相关人员已被采取强制措施，具体情况如何？如何看待此事件？',\n  '网友称得物调用手机权限删投诉视频，得物回应「没有权限和能力，正与手机厂商确认」，哪些信息值得关注？',\n  '如何看待上海 F4（米哈游，莉莉丝，鹰角，叠纸）?',\n  '湖南一社区书记同意转卖捐赠物资被免职，起到哪些警示作用？',\n  '什么原因让年轻人特别在乎钱？',\n  '土耳其一地突发爆炸已致 6 死 81 伤，土耳其副总统称「这是恐怖袭击」，目前当地情况如何？',\n  '11 月 14 日是世界糖尿病日，为什么中国成了糖尿病王国？我们又该如何做好糖尿病的早期预防？',\n  '为什么现在有不少人怀念 Win10，抵制 Win11。和几年前怀念 Win7，抵制 Win8/10 很相似？',\n  '研究称「每天两次鼻腔冲洗，可减少新冠症状和死亡风险，住院风险降低达 8 倍以上」，如何从医学角度解读？',\n  '数学 145 理综 295 英语 142 语文 130 哪个最难达到？',\n  '美国民主党锁定参议院控制权，这一结果对中美关系将产生什么影响?',\n  '如何评价《原神》自从草神之后层出不穷的所谓 T0 配队和所谓优化配队？T0 又该如何划分？',\n  '22-23 赛季 NBA 76 人险胜爵士，恩比德得到生涯新高 59 分，如何评价他的表现？',\n  '玩《原神》有没有你后悔抽了或没抽的角色？',\n  '团建真的有用吗？你理想中的团建是什么样子的？',\n  '晓组织全员联手是什么实力？',\n  '如何看待楼市金融十六条点明「对国有、民营等各类房地产企业一视同仁」？',\n  '如何评价《一人之下》番外《锈铁》第 16（20）话?',\n  '你会突然裸辞吗？',\n  '学习好真的有用吗？非常想离开父母怎么办？',\n  '你觉得生命重要还是前途重要?',\n  '为什么人类没有发展出攻击性的器官？',\n  '高考还有 205 天，英语 24 还有希望提高吗？',\n  '漂亮和幽默你会选择哪一个呢？',\n  '时间能治愈所有吗?',\n  '网传孕妇送医延误后流产，重庆通报「120 救护车进入小区受阻等情况不属实」，还有哪些信息值得关注？',\n  '楼市金融十六条出台，涉保交楼、贷款展期等多方面融资，具有哪些积极意义？',\n  '如何评价十月新番动画《孤独摇滚》第六集？',\n  '孩子平庸是坏事吗？为什么？',\n  '你们会有遗憾吗？',\n  '秋天皮肤起了好多干皮，有哪些改善效果比较好的身体乳？',\n  '研究人员利用对抗攻击方法，使菜鸟级围棋程序成功打败了世界最强围棋 AI，什么是对抗攻击方法？',\n  '被惯坏了的孩子后来知道自己被惯坏了吗？',\n  '2022 F1 巴西大奖赛拉塞尔首次夺冠，奔驰一二带回，汉密尔顿第二，赛恩斯第三，如何评价这场比赛？',\n  '下辈子不做人你想做什么?',\n  '22-23 赛季英超富勒姆 1:2 曼联，如何评价这场比赛？',\n  '新手想要入坑户外运动，有哪些注意事项？']}"
     },
     "execution_count": 14,
     "metadata": {},
     "output_type": "execute_result"
    }
   ],
   "source": [
    "zhihu = craw_data.getZhihu()\n",
    "craw_data.data['Zhihu']"
   ],
   "metadata": {
    "collapsed": false
   }
  },
  {
   "cell_type": "code",
   "execution_count": 10,
   "outputs": [
    {
     "data": {
      "text/plain": "{'2022-11-14': ['让探索太空的脚步迈得更稳更远',\n  '石家庄疫情防控',\n  '小猫叼巨型蟑螂回家躺床抱着玩',\n  '生态文明与美丽中国实践边会',\n  '鹿晗官宣音乐会嘉宾',\n  '妖猫传里有陈飞宇',\n  '偷偷藏不住',\n  '马斯克突然开除80%推特合同工',\n  '父亲婚礼致辞紧张到全身发抖',\n  '广州新增本土感染者4065例',\n  '乒乓球世界冠军朱雨玲病愈归来',\n  '女子已生4女儿又怀孕被要求离婚',\n  '白敬亭尹峥原型是雍正',\n  '爱的二八定律开播追剧日历',\n  '前YG社长杨贤硕有期徒刑3年',\n  '这锅包肉能全国巡炒吗',\n  '95后宝妈带1岁大宝宝上班',\n  '白血病男子术后6年还清70万治病钱',\n  '女子老房拆迁挖出千年古墓',\n  '篮网vs湖人',\n  '8岁男童右眼感染20多条螨虫',\n  '金韩彬',\n  '倪妮海藻卷发',\n  '偷偷藏不住全员杀青照',\n  '睡眠不足真的会发胖',\n  '首批新员工抵达郑州富士康',\n  '北京新增48例社会面',\n  '这老师是怎么忍住不笑的',\n  '重庆新增本土确诊150例无症状2147例',\n  '橄榄球赛韩国站播错中国国歌',\n  'C罗炮轰曼联',\n  '陈采尼金鸡奖点评',\n  '大学寝室被李峋包围',\n  '杨幂许凯新剧反差感恋爱',\n  '赵丽颖欧豪风吹半夏开始预约',\n  '陈玘',\n  '黄明昊给王鹤棣沈月拍合影',\n  '这下不想养猫了',\n  '用不明液体泼洒路人2男子被拘',\n  '男童受气后牵狗徒步17公里找奶奶',\n  '苹果开发搜索引擎',\n  '时代少年团新歌与奥特曼适配度',\n  '医生飞针采血被赞蚊子投胎',\n  '恩比德59分',\n  '北京疫情防控',\n  '老人地铁上不顾劝阻用刀削苹果',\n  '北京朝阳区部分核酸检测点临时关闭',\n  '广东新增本土感染者4160例',\n  '每天都会来串门的小奶狗',\n  '男子吃自助餐发现餐桌立牌请勿摄像']}"
     },
     "execution_count": 10,
     "metadata": {},
     "output_type": "execute_result"
    }
   ],
   "source": [
    "craw_data.getWeibo()\n",
    "craw_data.data['Weibo']"
   ],
   "metadata": {
    "collapsed": false
   }
  },
  {
   "cell_type": "code",
   "execution_count": 11,
   "outputs": [],
   "source": [
    "import json\n",
    "import os\n",
    "with open(os.getcwd() + \"/wc_cn/weiboHot.txt\", \"a+\", encoding=\"utf-8\") as file:\n",
    "    file.write(json.dumps(craw_data.data['Weibo'], indent=4, ensure_ascii=False))"
   ],
   "metadata": {
    "collapsed": false
   }
  },
  {
   "cell_type": "code",
   "execution_count": 15,
   "outputs": [],
   "source": [
    "import json\n",
    "import os\n",
    "with open(os.getcwd() + \"/wc_cn/zhihuHot.txt\", \"a+\", encoding=\"utf-8\") as file:\n",
    "    file.write(\",\\n\"+json.dumps(craw_data.data['Zhihu'], indent=4, ensure_ascii=False))"
   ],
   "metadata": {
    "collapsed": false
   }
  }
 ],
 "metadata": {
  "kernelspec": {
   "display_name": "Python 3",
   "language": "python",
   "name": "python3"
  },
  "language_info": {
   "codemirror_mode": {
    "name": "ipython",
    "version": 2
   },
   "file_extension": ".py",
   "mimetype": "text/x-python",
   "name": "python",
   "nbconvert_exporter": "python",
   "pygments_lexer": "ipython2",
   "version": "2.7.6"
  }
 },
 "nbformat": 4,
 "nbformat_minor": 0
}
